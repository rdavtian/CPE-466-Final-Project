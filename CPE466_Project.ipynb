{
 "cells": [
  {
   "cell_type": "code",
   "execution_count": 229,
   "metadata": {
    "collapsed": true
   },
   "outputs": [],
   "source": [
    "import pandas as pd\n",
    "import numpy as np\n"
   ]
  },
  {
   "cell_type": "code",
   "execution_count": 230,
   "metadata": {},
   "outputs": [],
   "source": [
    "nba = pd.read_csv('NBA_Player_Stats_16-17.csv', encoding = \"ISO-8859-1\")\n",
    "nba = pd.DataFrame(nba)"
   ]
  },
  {
   "cell_type": "code",
   "execution_count": 231,
   "metadata": {},
   "outputs": [],
   "source": [
    "train = nba.sample(frac=0.7)\n",
    "train = pd.DataFrame(train)\n",
    "test = nba.drop(train.index)\n",
    "test = pd.DataFrame(test)\n",
    "#random_state=nba.shape[0]"
   ]
  },
  {
   "cell_type": "code",
   "execution_count": 233,
   "metadata": {},
   "outputs": [],
   "source": [
    "# Function returns tuple (actual distance from player 1, player 2 name)\n",
    "def EuclidianDistance(Player_1, Player_2, data_set):\n",
    "    player1 = data_set.loc[data_set['Player'] == Player_1]\n",
    "    #player1.drop(player.columns[[0, 1, 2, 3]], axis=1, inplace= True)\n",
    "                \n",
    "    player2 = data_set.loc[data_set['Player'] == Player_2]\n",
    "    #player2.drop(player.columns[[0, 1, 2, 3]], axis=1, inplace= True)\n",
    "\n",
    "    distance = math.sqrt(sum(player1.iloc[0][4:24] - player2.iloc[0][4:24])**2)\n",
    "    return distance, player2.iloc[0][0]"
   ]
  },
  {
   "cell_type": "code",
   "execution_count": 237,
   "metadata": {},
   "outputs": [],
   "source": [
    "# itertate through all players and compare to Russell Westbrook. Store tuple of distances, player names \n",
    "distances = ()\n",
    "list_of_players = np.array(nba.iloc[0:][\"Player\"])\n",
    "for i in range(len(list_of_players)):\n",
    "    distances = distances + EuclidianDistance(\"Russell Westbrook\", list_of_players[i], nba)\n",
    "\n",
    "# convert stored tuples of distances and players into seperate numpy arrays and combine into pandas data frame and sort by dist.\n",
    "dist = []\n",
    "for i in range(0,len(distances), 2):\n",
    "    dist.append(distances[i])\n",
    "dist = np.array(dist)\n",
    "players = []\n",
    "for i in range(1, len(distances), 2):\n",
    "    players.append(distances[i])\n",
    "players = np.array(players)\n",
    "data = pd.DataFrame({'Distances':dist, 'Players':players})\n",
    "data = data.sort_values('Distances')\n",
    "data"
   ]
  },
  {
   "cell_type": "code",
   "execution_count": null,
   "metadata": {},
   "outputs": [],
   "source": [
    "#nba.loc[nba['Player'] == \"LeBron James\"]\n",
    "#nba.loc[nba['Player'] == \"Karl-Anthony Towns\"]"
   ]
  },
  {
   "cell_type": "code",
   "execution_count": null,
   "metadata": {},
   "outputs": [],
   "source": []
  },
  {
   "cell_type": "code",
   "execution_count": null,
   "metadata": {},
   "outputs": [],
   "source": []
  },
  {
   "cell_type": "code",
   "execution_count": null,
   "metadata": {},
   "outputs": [],
   "source": []
  },
  {
   "cell_type": "code",
   "execution_count": null,
   "metadata": {},
   "outputs": [],
   "source": []
  },
  {
   "cell_type": "code",
   "execution_count": null,
   "metadata": {},
   "outputs": [],
   "source": []
  },
  {
   "cell_type": "code",
   "execution_count": null,
   "metadata": {},
   "outputs": [],
   "source": []
  },
  {
   "cell_type": "code",
   "execution_count": null,
   "metadata": {},
   "outputs": [],
   "source": []
  },
  {
   "cell_type": "code",
   "execution_count": null,
   "metadata": {},
   "outputs": [],
   "source": []
  },
  {
   "cell_type": "code",
   "execution_count": null,
   "metadata": {
    "collapsed": true
   },
   "outputs": [],
   "source": []
  },
  {
   "cell_type": "code",
   "execution_count": null,
   "metadata": {
    "collapsed": true
   },
   "outputs": [],
   "source": []
  }
 ],
 "metadata": {
  "kernelspec": {
   "display_name": "Python [default]",
   "language": "python",
   "name": "python3"
  },
  "language_info": {
   "codemirror_mode": {
    "name": "ipython",
    "version": 3
   },
   "file_extension": ".py",
   "mimetype": "text/x-python",
   "name": "python",
   "nbconvert_exporter": "python",
   "pygments_lexer": "ipython3",
   "version": "3.5.3"
  }
 },
 "nbformat": 4,
 "nbformat_minor": 2
}
