{
 "cells": [
  {
   "cell_type": "code",
   "execution_count": 33,
   "metadata": {
    "collapsed": true
   },
   "outputs": [],
   "source": [
    "import pandas as pd\n",
    "import numpy as np\n",
    "import math\n",
    "import operator"
   ]
  },
  {
   "cell_type": "code",
   "execution_count": 34,
   "metadata": {},
   "outputs": [],
   "source": [
    "# https://www.nbastuffer.com/2016-2017-nba-regular-season-player-stats/\n",
    "# https://www.nbastuffer.com/2017-2018-nba-player-stats/\n",
    "nba = pd.read_csv('NBA_Player_Stats_16-17.csv', encoding = \"ISO-8859-1\")\n",
    "nba = pd.DataFrame(nba)\n",
    "\n",
    "nba2 = pd.read_csv('NBA_Player_Stats_17-18.csv', encoding = \"ISO-8859-1\")\n",
    "nba2 = pd.DataFrame(nba2)\n",
    "\n",
    "# Normalize quantitative variables\n",
    "cols_to_norm = nba.columns[5:]\n",
    "nba[cols_to_norm] = nba[cols_to_norm].apply(lambda x: (x - x.min()) / (x.max() - x.min()))\n",
    "\n",
    "# Normalize quantitative variables\n",
    "cols_to_norm2 = nba2.columns[5:]\n",
    "nba2[cols_to_norm2] = nba2[cols_to_norm2].apply(lambda x: (x - x.min()) / (x.max() - x.min()))"
   ]
  },
  {
   "cell_type": "code",
   "execution_count": 35,
   "metadata": {
    "collapsed": true
   },
   "outputs": [],
   "source": [
    "list_of_players_16_17 = np.array(nba.iloc[0:][\"Player\"])\n",
    "list_of_players_17_18 = np.array(nba2.iloc[0:][\"Player\"])"
   ]
  },
  {
   "cell_type": "code",
   "execution_count": 36,
   "metadata": {
    "collapsed": true
   },
   "outputs": [],
   "source": [
    "# Function returns tuple (actual distance from player 1, player 2 name)\n",
    "def EuclidianDistance(Player_1, Player_2, data16_17, data17_18):\n",
    "    player1 = data16_17.loc[data16_17['Player'] == Player_1]\n",
    "    #player1.drop(player.columns[[0, 1, 2, 3]], axis=1, inplace= True)\n",
    "                \n",
    "    player2 = data17_18.loc[data17_18['Player'] == Player_2]\n",
    "    #player2.drop(player.columns[[0, 1, 2, 3]], axis=1, inplace= True)\n",
    "\n",
    "    distance = math.sqrt(sum(player1.iloc[0][5:24] - player2.iloc[0][5:24])**2)\n",
    "    return distance, player2.iloc[0][0]"
   ]
  },
  {
   "cell_type": "code",
   "execution_count": 37,
   "metadata": {
    "collapsed": true
   },
   "outputs": [],
   "source": [
    "# itertate through all players and compare to Russell Westbrook. Store tuple of distances, player names \n",
    "def ClosestPlayersTo(Player_Name):\n",
    "    distances = ()\n",
    "    for i in range(len(list_of_players_17_18)):\n",
    "        distances = distances + EuclidianDistance(Player_Name, list_of_players_17_18[i], nba, nba2)\n",
    "\n",
    "    # convert stored tuples of distances and players into seperate numpy arrays and \n",
    "    # combine into pandas data frame and sort by dist.\n",
    "    dist = []\n",
    "    for i in range(0,len(distances), 2):\n",
    "        dist.append(distances[i])\n",
    "    dist = np.array(dist)\n",
    "    players = []\n",
    "    for i in range(1, len(distances), 2):\n",
    "        players.append(distances[i])\n",
    "    players = np.array(players)\n",
    "    data = pd.DataFrame({'Distances':dist, 'Players':players})\n",
    "    data = data.sort_values('Distances')\n",
    "    return data.iloc[1:10]"
   ]
  },
  {
   "cell_type": "code",
   "execution_count": 38,
   "metadata": {},
   "outputs": [
    {
     "data": {
      "text/html": [
       "<div>\n",
       "<style>\n",
       "    .dataframe thead tr:only-child th {\n",
       "        text-align: right;\n",
       "    }\n",
       "\n",
       "    .dataframe thead th {\n",
       "        text-align: left;\n",
       "    }\n",
       "\n",
       "    .dataframe tbody tr th {\n",
       "        vertical-align: top;\n",
       "    }\n",
       "</style>\n",
       "<table border=\"1\" class=\"dataframe\">\n",
       "  <thead>\n",
       "    <tr style=\"text-align: right;\">\n",
       "      <th></th>\n",
       "      <th>Distances</th>\n",
       "      <th>Players</th>\n",
       "    </tr>\n",
       "  </thead>\n",
       "  <tbody>\n",
       "    <tr>\n",
       "      <th>279</th>\n",
       "      <td>2.585392</td>\n",
       "      <td>LeBron James</td>\n",
       "    </tr>\n",
       "    <tr>\n",
       "      <th>378</th>\n",
       "      <td>2.937821</td>\n",
       "      <td>Russell Westbrook</td>\n",
       "    </tr>\n",
       "    <tr>\n",
       "      <th>97</th>\n",
       "      <td>3.032367</td>\n",
       "      <td>DeMarcus Cousins</td>\n",
       "    </tr>\n",
       "    <tr>\n",
       "      <th>149</th>\n",
       "      <td>3.603609</td>\n",
       "      <td>Giannis Antetokounmpo</td>\n",
       "    </tr>\n",
       "    <tr>\n",
       "      <th>395</th>\n",
       "      <td>3.637205</td>\n",
       "      <td>Stephen Curry</td>\n",
       "    </tr>\n",
       "    <tr>\n",
       "      <th>73</th>\n",
       "      <td>3.707561</td>\n",
       "      <td>Damian Lillard</td>\n",
       "    </tr>\n",
       "    <tr>\n",
       "      <th>22</th>\n",
       "      <td>4.280822</td>\n",
       "      <td>Anthony Davis</td>\n",
       "    </tr>\n",
       "    <tr>\n",
       "      <th>34</th>\n",
       "      <td>4.318329</td>\n",
       "      <td>Blake Griffin</td>\n",
       "    </tr>\n",
       "    <tr>\n",
       "      <th>272</th>\n",
       "      <td>4.550513</td>\n",
       "      <td>Kyrie Irving</td>\n",
       "    </tr>\n",
       "  </tbody>\n",
       "</table>\n",
       "</div>"
      ],
      "text/plain": [
       "     Distances                Players\n",
       "279   2.585392           LeBron James\n",
       "378   2.937821      Russell Westbrook\n",
       "97    3.032367       DeMarcus Cousins\n",
       "149   3.603609  Giannis Antetokounmpo\n",
       "395   3.637205          Stephen Curry\n",
       "73    3.707561         Damian Lillard\n",
       "22    4.280822          Anthony Davis\n",
       "34    4.318329          Blake Griffin\n",
       "272   4.550513           Kyrie Irving"
      ]
     },
     "execution_count": 38,
     "metadata": {},
     "output_type": "execute_result"
    }
   ],
   "source": [
    "###### Question 1\n",
    "ClosestPlayersTo(\"Russell Westbrook\")\n",
    "\n",
    "# Predict LeBron James as 2017-2018 NBA Regular Season MVP"
   ]
  },
  {
   "cell_type": "code",
   "execution_count": 44,
   "metadata": {},
   "outputs": [
    {
     "data": {
      "text/html": [
       "<div>\n",
       "<style>\n",
       "    .dataframe thead tr:only-child th {\n",
       "        text-align: right;\n",
       "    }\n",
       "\n",
       "    .dataframe thead th {\n",
       "        text-align: left;\n",
       "    }\n",
       "\n",
       "    .dataframe tbody tr th {\n",
       "        vertical-align: top;\n",
       "    }\n",
       "</style>\n",
       "<table border=\"1\" class=\"dataframe\">\n",
       "  <thead>\n",
       "    <tr style=\"text-align: right;\">\n",
       "      <th></th>\n",
       "      <th>Player</th>\n",
       "      <th>Team</th>\n",
       "      <th>Pos</th>\n",
       "      <th>Pos_Num</th>\n",
       "      <th>Class</th>\n",
       "      <th>Age</th>\n",
       "      <th>GP</th>\n",
       "      <th>MPG</th>\n",
       "      <th>MIN_PERC</th>\n",
       "      <th>USG_PERC</th>\n",
       "      <th>...</th>\n",
       "      <th>3P_PERC</th>\n",
       "      <th>TS_PERC</th>\n",
       "      <th>PPG</th>\n",
       "      <th>RPG</th>\n",
       "      <th>TRB_PERC</th>\n",
       "      <th>APG</th>\n",
       "      <th>AST_PERC</th>\n",
       "      <th>SPG</th>\n",
       "      <th>BPG</th>\n",
       "      <th>VI</th>\n",
       "    </tr>\n",
       "  </thead>\n",
       "  <tbody>\n",
       "    <tr>\n",
       "      <th>376</th>\n",
       "      <td>Russell Westbrook</td>\n",
       "      <td>Okc</td>\n",
       "      <td>PG</td>\n",
       "      <td>1</td>\n",
       "      <td>FrontCourt</td>\n",
       "      <td>0.428571</td>\n",
       "      <td>0.9875</td>\n",
       "      <td>0.902439</td>\n",
       "      <td>0.903367</td>\n",
       "      <td>1.0</td>\n",
       "      <td>...</td>\n",
       "      <td>0.514243</td>\n",
       "      <td>0.693367</td>\n",
       "      <td>1.0</td>\n",
       "      <td>0.758865</td>\n",
       "      <td>0.678571</td>\n",
       "      <td>0.928571</td>\n",
       "      <td>1.0</td>\n",
       "      <td>0.812808</td>\n",
       "      <td>0.143939</td>\n",
       "      <td>1.0</td>\n",
       "    </tr>\n",
       "  </tbody>\n",
       "</table>\n",
       "<p>1 rows × 26 columns</p>\n",
       "</div>"
      ],
      "text/plain": [
       "                Player Team Pos  Pos_Num       Class       Age      GP  \\\n",
       "376  Russell Westbrook  Okc  PG        1  FrontCourt  0.428571  0.9875   \n",
       "\n",
       "          MPG  MIN_PERC  USG_PERC ...    3P_PERC   TS_PERC  PPG       RPG  \\\n",
       "376  0.902439  0.903367       1.0 ...   0.514243  0.693367  1.0  0.758865   \n",
       "\n",
       "     TRB_PERC       APG  AST_PERC       SPG       BPG   VI  \n",
       "376  0.678571  0.928571       1.0  0.812808  0.143939  1.0  \n",
       "\n",
       "[1 rows x 26 columns]"
      ]
     },
     "execution_count": 44,
     "metadata": {},
     "output_type": "execute_result"
    }
   ],
   "source": [
    "nba.loc[nba['Player'] == \"Russell Westbrook\"]"
   ]
  },
  {
   "cell_type": "code",
   "execution_count": 45,
   "metadata": {},
   "outputs": [
    {
     "data": {
      "text/html": [
       "<div>\n",
       "<style>\n",
       "    .dataframe thead tr:only-child th {\n",
       "        text-align: right;\n",
       "    }\n",
       "\n",
       "    .dataframe thead th {\n",
       "        text-align: left;\n",
       "    }\n",
       "\n",
       "    .dataframe tbody tr th {\n",
       "        vertical-align: top;\n",
       "    }\n",
       "</style>\n",
       "<table border=\"1\" class=\"dataframe\">\n",
       "  <thead>\n",
       "    <tr style=\"text-align: right;\">\n",
       "      <th></th>\n",
       "      <th>Player</th>\n",
       "      <th>Team</th>\n",
       "      <th>Pos</th>\n",
       "      <th>Pos_Num</th>\n",
       "      <th>Class</th>\n",
       "      <th>Age</th>\n",
       "      <th>GP</th>\n",
       "      <th>MPG</th>\n",
       "      <th>MIN_PERC</th>\n",
       "      <th>USG_PERC</th>\n",
       "      <th>...</th>\n",
       "      <th>3P_PERC</th>\n",
       "      <th>TS_PERC</th>\n",
       "      <th>PPG</th>\n",
       "      <th>RPG</th>\n",
       "      <th>TRB_PERC</th>\n",
       "      <th>APG</th>\n",
       "      <th>AST_PERC</th>\n",
       "      <th>SPG</th>\n",
       "      <th>BPG</th>\n",
       "      <th>VI</th>\n",
       "    </tr>\n",
       "  </thead>\n",
       "  <tbody>\n",
       "    <tr>\n",
       "      <th>279</th>\n",
       "      <td>LeBron James</td>\n",
       "      <td>Cle</td>\n",
       "      <td>SF</td>\n",
       "      <td>3</td>\n",
       "      <td>BackCourt</td>\n",
       "      <td>0.636364</td>\n",
       "      <td>0.954545</td>\n",
       "      <td>0.994444</td>\n",
       "      <td>0.994667</td>\n",
       "      <td>0.567362</td>\n",
       "      <td>...</td>\n",
       "      <td>0.425</td>\n",
       "      <td>0.663</td>\n",
       "      <td>0.888889</td>\n",
       "      <td>0.539474</td>\n",
       "      <td>0.338798</td>\n",
       "      <td>0.825243</td>\n",
       "      <td>0.529557</td>\n",
       "      <td>0.48</td>\n",
       "      <td>0.466403</td>\n",
       "      <td>0.428571</td>\n",
       "    </tr>\n",
       "  </tbody>\n",
       "</table>\n",
       "<p>1 rows × 26 columns</p>\n",
       "</div>"
      ],
      "text/plain": [
       "           Player Team Pos  Pos_Num      Class       Age        GP       MPG  \\\n",
       "279  LeBron James  Cle  SF        3  BackCourt  0.636364  0.954545  0.994444   \n",
       "\n",
       "     MIN_PERC  USG_PERC    ...     3P_PERC  TS_PERC       PPG       RPG  \\\n",
       "279  0.994667  0.567362    ...       0.425    0.663  0.888889  0.539474   \n",
       "\n",
       "     TRB_PERC       APG  AST_PERC   SPG       BPG        VI  \n",
       "279  0.338798  0.825243  0.529557  0.48  0.466403  0.428571  \n",
       "\n",
       "[1 rows x 26 columns]"
      ]
     },
     "execution_count": 45,
     "metadata": {},
     "output_type": "execute_result"
    }
   ],
   "source": [
    "nba2.loc[nba2['Player'] == \"LeBron James\"]"
   ]
  },
  {
   "cell_type": "code",
   "execution_count": 49,
   "metadata": {
    "collapsed": true
   },
   "outputs": [],
   "source": []
  },
  {
   "cell_type": "code",
   "execution_count": 57,
   "metadata": {
    "collapsed": true
   },
   "outputs": [],
   "source": []
  },
  {
   "cell_type": "code",
   "execution_count": 58,
   "metadata": {
    "collapsed": true
   },
   "outputs": [],
   "source": []
  },
  {
   "cell_type": "code",
   "execution_count": 59,
   "metadata": {
    "collapsed": true
   },
   "outputs": [],
   "source": []
  },
  {
   "cell_type": "code",
   "execution_count": 60,
   "metadata": {
    "collapsed": true
   },
   "outputs": [],
   "source": []
  },
  {
   "cell_type": "code",
   "execution_count": 61,
   "metadata": {
    "collapsed": true
   },
   "outputs": [],
   "source": []
  },
  {
   "cell_type": "code",
   "execution_count": 62,
   "metadata": {
    "collapsed": true
   },
   "outputs": [],
   "source": []
  },
  {
   "cell_type": "code",
   "execution_count": 63,
   "metadata": {
    "collapsed": true
   },
   "outputs": [],
   "source": []
  },
  {
   "cell_type": "code",
   "execution_count": null,
   "metadata": {
    "collapsed": true
   },
   "outputs": [],
   "source": []
  },
  {
   "cell_type": "code",
   "execution_count": 64,
   "metadata": {},
   "outputs": [
    {
     "data": {
      "text/plain": [
       "[0.49635036496350365,\n",
       " 0.4744525547445255,\n",
       " 0.45255474452554745,\n",
       " 0.5182481751824818,\n",
       " 0.48905109489051096,\n",
       " 0.5109489051094891,\n",
       " 0.48905109489051096,\n",
       " 0.4744525547445255,\n",
       " 0.5109489051094891,\n",
       " 0.48175182481751827]"
      ]
     },
     "execution_count": 64,
     "metadata": {},
     "output_type": "execute_result"
    }
   ],
   "source": []
  },
  {
   "cell_type": "code",
   "execution_count": 66,
   "metadata": {},
   "outputs": [
    {
     "data": {
      "text/plain": [
       "0.48978102189781031"
      ]
     },
     "execution_count": 66,
     "metadata": {},
     "output_type": "execute_result"
    }
   ],
   "source": []
  },
  {
   "cell_type": "code",
   "execution_count": null,
   "metadata": {
    "collapsed": true
   },
   "outputs": [],
   "source": []
  },
  {
   "cell_type": "code",
   "execution_count": null,
   "metadata": {
    "collapsed": true
   },
   "outputs": [],
   "source": []
  },
  {
   "cell_type": "code",
   "execution_count": null,
   "metadata": {
    "collapsed": true
   },
   "outputs": [],
   "source": []
  },
  {
   "cell_type": "code",
   "execution_count": null,
   "metadata": {
    "collapsed": true
   },
   "outputs": [],
   "source": []
  }
 ],
 "metadata": {
  "kernelspec": {
   "display_name": "Python [default]",
   "language": "python",
   "name": "python3"
  },
  "language_info": {
   "codemirror_mode": {
    "name": "ipython",
    "version": 3
   },
   "file_extension": ".py",
   "mimetype": "text/x-python",
   "name": "python",
   "nbconvert_exporter": "python",
   "pygments_lexer": "ipython3",
   "version": "3.5.3"
  }
 },
 "nbformat": 4,
 "nbformat_minor": 2
}
