{
 "cells": [
  {
   "cell_type": "code",
   "execution_count": 21,
   "metadata": {
    "collapsed": true
   },
   "outputs": [],
   "source": [
    "import pandas as pd\n",
    "import numpy as np\n",
    "import math\n",
    "import operator\n",
    "import matplotlib.pyplot as plt\n",
    "%matplotlib inline  "
   ]
  },
  {
   "cell_type": "code",
   "execution_count": 2,
   "metadata": {
    "collapsed": true
   },
   "outputs": [],
   "source": [
    "nba = pd.read_csv('NBA_Player_Stats_16-17.csv', encoding = \"ISO-8859-1\")\n",
    "nba = pd.DataFrame(nba)\n",
    "\n",
    "# Normalize quantitative variables\n",
    "cols_to_norm = nba.columns[5:]\n",
    "nba[cols_to_norm] = nba[cols_to_norm].apply(lambda x: (x - x.min()) / (x.max() - x.min()))\n",
    "\n",
    "#random_state=nba.shape[0]\n",
    "train = nba.sample(frac=0.7)\n",
    "train = pd.DataFrame(train)\n",
    "\n",
    "test = nba.drop(train.index)\n",
    "test = pd.DataFrame(test)\n",
    "\n",
    "list_of_players = np.array(nba.iloc[0:][\"Player\"])\n",
    "list_of_players_test = np.array(test.iloc[0:][\"Player\"])\n",
    "list_of_players_train = np.array(train.iloc[0:][\"Player\"])  "
   ]
  },
  {
   "cell_type": "code",
   "execution_count": 3,
   "metadata": {
    "collapsed": true
   },
   "outputs": [],
   "source": [
    "# Function returns tuple (actual distance from player 1, player 2 name)\n",
    "def EuclidianDistance(Player_1, Player_2, data_set):\n",
    "    player1 = data_set.loc[data_set['Player'] == Player_1]\n",
    "    #player1.drop(player.columns[[0, 1, 2, 3]], axis=1, inplace= True)\n",
    "                \n",
    "    player2 = data_set.loc[data_set['Player'] == Player_2]\n",
    "    #player2.drop(player.columns[[0, 1, 2, 3]], axis=1, inplace= True)\n",
    "\n",
    "    distance = math.sqrt(sum(player1.iloc[0][5:25] - player2.iloc[0][5:25])**2)\n",
    "    return distance, player2.iloc[0][0]"
   ]
  },
  {
   "cell_type": "code",
   "execution_count": 4,
   "metadata": {
    "collapsed": true
   },
   "outputs": [],
   "source": [
    "# itertate through all players and compare to Russell Westbrook. Store tuple of distances, player names \n",
    "def ClosestPlayersTo(Player_Name):\n",
    "    distances = ()\n",
    "    for i in range(len(list_of_players)):\n",
    "        distances = distances + EuclidianDistance(Player_Name, list_of_players[i], nba)\n",
    "\n",
    "    # convert stored tuples of distances and players into seperate numpy arrays and \n",
    "    # combine into pandas data frame and sort by dist.\n",
    "    dist = []\n",
    "    for i in range(0,len(distances), 2):\n",
    "        dist.append(distances[i])\n",
    "    dist = np.array(dist)\n",
    "    players = []\n",
    "    for i in range(1, len(distances), 2):\n",
    "        players.append(distances[i])\n",
    "    players = np.array(players)\n",
    "    data = pd.DataFrame({'Distances':dist, 'Players':players})\n",
    "    data = data.sort_values('Distances')\n",
    "    return data.iloc[1:10]"
   ]
  },
  {
   "cell_type": "code",
   "execution_count": 5,
   "metadata": {
    "collapsed": false
   },
   "outputs": [
    {
     "data": {
      "text/html": [
       "<div>\n",
       "<table border=\"1\" class=\"dataframe\">\n",
       "  <thead>\n",
       "    <tr style=\"text-align: right;\">\n",
       "      <th></th>\n",
       "      <th>Distances</th>\n",
       "      <th>Players</th>\n",
       "    </tr>\n",
       "  </thead>\n",
       "  <tbody>\n",
       "    <tr>\n",
       "      <th>175</th>\n",
       "      <td>0.604736</td>\n",
       "      <td>James Harden</td>\n",
       "    </tr>\n",
       "    <tr>\n",
       "      <th>270</th>\n",
       "      <td>1.887375</td>\n",
       "      <td>LeBron James</td>\n",
       "    </tr>\n",
       "    <tr>\n",
       "      <th>209</th>\n",
       "      <td>2.315093</td>\n",
       "      <td>John Wall</td>\n",
       "    </tr>\n",
       "    <tr>\n",
       "      <th>27</th>\n",
       "      <td>2.481884</td>\n",
       "      <td>Anthony Davis</td>\n",
       "    </tr>\n",
       "    <tr>\n",
       "      <th>145</th>\n",
       "      <td>2.600688</td>\n",
       "      <td>Giannis Antetokounmp</td>\n",
       "    </tr>\n",
       "    <tr>\n",
       "      <th>100</th>\n",
       "      <td>2.621476</td>\n",
       "      <td>DeMarcus Cousins</td>\n",
       "    </tr>\n",
       "    <tr>\n",
       "      <th>398</th>\n",
       "      <td>2.755040</td>\n",
       "      <td>Stephen Curry</td>\n",
       "    </tr>\n",
       "    <tr>\n",
       "      <th>236</th>\n",
       "      <td>3.015687</td>\n",
       "      <td>Karl-Anthony Towns</td>\n",
       "    </tr>\n",
       "    <tr>\n",
       "      <th>198</th>\n",
       "      <td>3.052168</td>\n",
       "      <td>Jimmy Butler</td>\n",
       "    </tr>\n",
       "  </tbody>\n",
       "</table>\n",
       "</div>"
      ],
      "text/plain": [
       "     Distances               Players\n",
       "175   0.604736          James Harden\n",
       "270   1.887375          LeBron James\n",
       "209   2.315093             John Wall\n",
       "27    2.481884         Anthony Davis\n",
       "145   2.600688  Giannis Antetokounmp\n",
       "100   2.621476      DeMarcus Cousins\n",
       "398   2.755040         Stephen Curry\n",
       "236   3.015687    Karl-Anthony Towns\n",
       "198   3.052168          Jimmy Butler"
      ]
     },
     "execution_count": 5,
     "metadata": {},
     "output_type": "execute_result"
    }
   ],
   "source": [
    "###### Question 1\n",
    "ClosestPlayersTo(\"Russell Westbrook\")\n",
    "#nba.loc[nba['Player'] == \"LeBron James\"]\n",
    "#nba.loc[nba['Player'] == \"John Wall\"]"
   ]
  },
  {
   "cell_type": "code",
   "execution_count": 6,
   "metadata": {
    "collapsed": true
   },
   "outputs": [],
   "source": [
    "###### Question 2, KNN Algorithm"
   ]
  },
  {
   "cell_type": "code",
   "execution_count": 7,
   "metadata": {
    "collapsed": true
   },
   "outputs": [],
   "source": [
    "# Function returns actual distance from player 1, player 2\n",
    "def EuclidianDistance_KNN(Player_1, Player_2):\n",
    "    player1 = train.loc[train['Player'] == Player_1]\n",
    "    #player1.drop(player.columns[[0, 1, 2, 3]], axis=1, inplace= True)\n",
    "                \n",
    "    player2 = test.loc[test['Player'] == Player_2]\n",
    "    #player2.drop(player.columns[[0, 1, 2, 3]], axis=1, inplace= True)\n",
    "\n",
    "    distance = math.sqrt(sum(player1.iloc[0][5:25] - player2.iloc[0][5:25])**2)\n",
    "    return distance"
   ]
  },
  {
   "cell_type": "code",
   "execution_count": 8,
   "metadata": {
    "collapsed": true
   },
   "outputs": [],
   "source": [
    "# gets neighbors for only 1 observation in test set\n",
    "import operator\n",
    "def getNeighbors(train_set, Test_Player, k):\n",
    "    distances = []\n",
    "    #testInstance = list_of_players_test[0]\n",
    "    for x in range(len(train_set)):\n",
    "        dist = EuclidianDistance_KNN(str(train_set.iloc[x][0]), Test_Player)\n",
    "        distances.append((train_set.iloc[x][0], dist))\n",
    "    distances.sort(key=operator.itemgetter(1))\n",
    "    #print(distances)\n",
    "    neighbors = []\n",
    "    for x in range(k):\n",
    "        neighbors.append(distances[x][0])\n",
    "    return neighbors"
   ]
  },
  {
   "cell_type": "code",
   "execution_count": 9,
   "metadata": {
    "collapsed": true
   },
   "outputs": [],
   "source": [
    "# Get ALL Top K Neighbors for each observation in test set\n",
    "def getALLNeighbors(train_set, k):\n",
    "    neighbors_array = []\n",
    "    #list_of_players_test = np.array(test.iloc[0:][\"Player\"])\n",
    "    #list_of_players_train = np.array(train.iloc[0:][\"Player\"])\n",
    "    #for i in range (5):  # Look at first 5 test observations only for now\n",
    "    for i in range(len(test)):\n",
    "        neighbors_array.append(getNeighbors(train, list_of_players_test[i], k))\n",
    "    return neighbors_array"
   ]
  },
  {
   "cell_type": "code",
   "execution_count": 10,
   "metadata": {
    "collapsed": true
   },
   "outputs": [],
   "source": [
    "# Resize 1d list into mutlidimensional list\n",
    "def to_matrix(l, n):\n",
    "    return [l[i:i+n] for i in range(0, len(l), n)]"
   ]
  },
  {
   "cell_type": "code",
   "execution_count": 11,
   "metadata": {
    "collapsed": true
   },
   "outputs": [],
   "source": [
    "def GetLabels(neighbors_array, k):\n",
    "    labels_train = []\n",
    "    for i in range(len(neighbors_array)):\n",
    "        for j in range(len(neighbors_array[i])):\n",
    "            player = train.loc[train['Player'] == neighbors_array[i][j]]\n",
    "            labels_train.append(player.iloc[0][3])\n",
    "\n",
    "    labels_train = to_matrix(labels_train, k)\n",
    "    labels_train = np.array(labels_train)\n",
    "\n",
    "    labels_test = []\n",
    "    #for i in list_of_players_test[0:5]: # Look at first 4 test observations only for now\n",
    "    for i in list_of_players_test:\n",
    "        player = test.loc[test['Player'] == i] \n",
    "        label = player.iloc[0][3]\n",
    "        labels_test.append(label)\n",
    "    labels_test = np.array(labels_test)\n",
    "    return labels_train, labels_test"
   ]
  },
  {
   "cell_type": "code",
   "execution_count": 12,
   "metadata": {
    "collapsed": true
   },
   "outputs": [],
   "source": [
    "import operator\n",
    "def getResponse(neighbors_arrar):\n",
    "    answer = []\n",
    "    for x in range(len(neighbors_array)):\n",
    "        classVotes = {}\n",
    "        for i in range(len(neighbors_array[x])):\n",
    "            #print(neighbors_array[i])\n",
    "            player = train.loc[train['Player'] == neighbors_array[x][i]]\n",
    "            response = player.iloc[0][3]\n",
    "            if response in classVotes:\n",
    "                classVotes[response] += 1\n",
    "            else: \n",
    "                classVotes[response] = 1\n",
    "        np.array(answer.append(classVotes))\n",
    "    sortedValues = sorted(classVotes.items(), key=operator.itemgetter(1), reverse=True)\n",
    "    return answer"
   ]
  },
  {
   "cell_type": "code",
   "execution_count": 13,
   "metadata": {
    "collapsed": true
   },
   "outputs": [],
   "source": [
    "def Accuracy(predictions, actual):\n",
    "    N = len(predictions)\n",
    "    count = 0\n",
    "    for i in range(len(predictions)):\n",
    "        if abs(actual[i] - predictions[i]) <= 1:\n",
    "            count = count + 1\n",
    "    return count / N"
   ]
  },
  {
   "cell_type": "code",
   "execution_count": 26,
   "metadata": {
    "collapsed": false
   },
   "outputs": [
    {
     "name": "stdout",
     "output_type": "stream",
     "text": [
      "1\n",
      "2\n",
      "3\n",
      "4\n",
      "5\n",
      "6\n",
      "7\n",
      "8\n",
      "9\n",
      "10\n",
      "11\n",
      "12\n",
      "13\n",
      "14\n",
      "15\n",
      "16\n",
      "17\n",
      "18\n",
      "19\n",
      "20\n",
      "1\n",
      "2\n",
      "3\n",
      "4\n",
      "5\n",
      "6\n",
      "7\n",
      "8\n",
      "9\n",
      "10\n",
      "11\n",
      "12\n",
      "13\n",
      "14\n",
      "15\n",
      "16\n",
      "17\n",
      "18\n",
      "19\n",
      "20\n",
      "1\n",
      "2\n",
      "3\n",
      "4\n",
      "5\n",
      "6\n",
      "7\n",
      "8\n",
      "9\n",
      "10\n",
      "11\n",
      "12\n",
      "13\n",
      "14\n",
      "15\n",
      "16\n",
      "17\n",
      "18\n",
      "19\n",
      "20\n",
      "1\n",
      "2\n",
      "3\n",
      "4\n",
      "5\n",
      "6\n",
      "7\n",
      "8\n",
      "9\n",
      "10\n",
      "11\n",
      "12\n",
      "13\n",
      "14\n",
      "15\n",
      "16\n",
      "17\n",
      "18\n",
      "19\n",
      "20\n",
      "1\n",
      "2\n",
      "3\n",
      "4\n",
      "5\n",
      "6\n",
      "7\n",
      "8\n",
      "9\n",
      "10\n",
      "11\n",
      "12\n",
      "13\n",
      "14\n",
      "15\n",
      "16\n",
      "17\n",
      "18\n",
      "19\n",
      "20\n",
      "[[0.5766423357664233, 0.6496350364963503, 0.5912408759124088, 0.5766423357664233, 0.5547445255474452, 0.583941605839416, 0.5547445255474452, 0.5766423357664233, 0.5547445255474452, 0.5693430656934306, 0.5547445255474452, 0.5547445255474452, 0.5693430656934306, 0.5620437956204379, 0.5766423357664233, 0.5620437956204379, 0.5547445255474452, 0.5182481751824818, 0.5255474452554745, 0.5547445255474452], [0.5912408759124088, 0.5620437956204379, 0.5693430656934306, 0.5693430656934306, 0.5547445255474452, 0.5328467153284672, 0.41605839416058393, 0.49635036496350365, 0.5182481751824818, 0.5255474452554745, 0.583941605839416, 0.5693430656934306, 0.5474452554744526, 0.5401459854014599, 0.5328467153284672, 0.5401459854014599, 0.5182481751824818, 0.5401459854014599, 0.5255474452554745, 0.5109489051094891], [0.5401459854014599, 0.49635036496350365, 0.48905109489051096, 0.5182481751824818, 0.49635036496350365, 0.45985401459854014, 0.49635036496350365, 0.5109489051094891, 0.5255474452554745, 0.5255474452554745, 0.5255474452554745, 0.5474452554744526, 0.5474452554744526, 0.5474452554744526, 0.5401459854014599, 0.5401459854014599, 0.5474452554744526, 0.5182481751824818, 0.5182481751824818, 0.5255474452554745], [0.5693430656934306, 0.5255474452554745, 0.5255474452554745, 0.5255474452554745, 0.5693430656934306, 0.5766423357664233, 0.5401459854014599, 0.5255474452554745, 0.5474452554744526, 0.5547445255474452, 0.583941605839416, 0.5912408759124088, 0.6058394160583942, 0.6204379562043796, 0.6277372262773723, 0.6204379562043796, 0.5766423357664233, 0.5912408759124088, 0.635036496350365, 0.6277372262773723], [0.5401459854014599, 0.5985401459854015, 0.5401459854014599, 0.45985401459854014, 0.46715328467153283, 0.5182481751824818, 0.5401459854014599, 0.5401459854014599, 0.5328467153284672, 0.48175182481751827, 0.48905109489051096, 0.48905109489051096, 0.5474452554744526, 0.583941605839416, 0.5547445255474452, 0.5547445255474452, 0.5328467153284672, 0.5620437956204379, 0.583941605839416, 0.5547445255474452]]\n"
     ]
    }
   ],
   "source": [
    "# Iterate through k-values and see how accuracy changes, testing for k = 1 to 20 for 4 different train, test sets\n",
    "# https://www.nbastuffer.com/2016-2017-nba-regular-season-player-stats/\n",
    "# https://www.nbastuffer.com/2017-2018-nba-player-stats/\n",
    "cross_validation = []\n",
    "for j in range(5):\n",
    "    nba = pd.read_csv('NBA_Player_Stats_16-17.csv', encoding = \"ISO-8859-1\")\n",
    "    nba = pd.DataFrame(nba)\n",
    "\n",
    "    # Normalize quantitative variables\n",
    "    cols_to_norm = nba.columns[5:]\n",
    "    nba[cols_to_norm] = nba[cols_to_norm].apply(lambda x: (x - x.min()) / (x.max() - x.min()))\n",
    "\n",
    "    #random_state=nba.shape[0]\n",
    "    train = nba.sample(frac=0.7)\n",
    "    train = pd.DataFrame(train)\n",
    "\n",
    "    test = nba.drop(train.index)\n",
    "    test = pd.DataFrame(test)\n",
    "\n",
    "    list_of_players = np.array(nba.iloc[0:][\"Player\"])\n",
    "    list_of_players_test = np.array(test.iloc[0:][\"Player\"])\n",
    "    list_of_players_train = np.array(train.iloc[0:][\"Player\"])\n",
    "    \n",
    "    accuracies = []\n",
    "    for i in range(1,21):\n",
    "        print(i)\n",
    "        neighbors_array = getALLNeighbors(train, i)\n",
    "        knn_labels, true_labels = GetLabels(neighbors_array, i)\n",
    "        #print(knn_labels)\n",
    "        #print(true_labels)\n",
    "        answer = getResponse(neighbors_array)\n",
    "        predict = []\n",
    "        for j in answer:\n",
    "            np.array(predict.append(max(j.items(), key=operator.itemgetter(1))[0]))\n",
    "        accuracy = Accuracy(predict, true_labels)\n",
    "        accuracies.append(accuracy)\n",
    "    #print(accuracies)\n",
    "    cross_validation.append(accuracies)\n",
    "print(cross_validation)"
   ]
  },
  {
   "cell_type": "code",
   "execution_count": 30,
   "metadata": {
    "collapsed": false
   },
   "outputs": [
    {
     "data": {
      "text/plain": [
       "<matplotlib.text.Text at 0x7f579b103940>"
      ]
     },
     "execution_count": 30,
     "metadata": {},
     "output_type": "execute_result"
    },
    {
     "data": {
      "image/png": "[encoded data removed]",
      "text/plain": [
       "<matplotlib.figure.Figure at 0x7f579b13afd0>"
      ]
     },
     "metadata": {},
     "output_type": "display_data"
    }
   ],
   "source": [
    "k = np.array([1,2,3,4,5,6,7,8,9,10,11,12,13,14,15,16,17,18,19,20])\n",
    "cross_validation = np.array(cross_validation)\n",
    "mean_k = np.mean(cross_validation, axis = 0)\n",
    "plt.plot(k, mean_k)\n",
    "plt.title(\"Accuraccy of Mean K-th Value for 5 train/test sets\")"
   ]
  },
  {
   "cell_type": "code",
   "execution_count": 28,
   "metadata": {
    "collapsed": false
   },
   "outputs": [
    {
     "data": {
      "text/plain": [
       "array([[ 0.57664234,  0.64963504,  0.59124088,  0.57664234,  0.55474453,\n",
       "         0.58394161,  0.55474453,  0.57664234,  0.55474453,  0.56934307,\n",
       "         0.55474453,  0.55474453,  0.56934307,  0.5620438 ,  0.57664234,\n",
       "         0.5620438 ,  0.55474453,  0.51824818,  0.52554745,  0.55474453],\n",
       "       [ 0.59124088,  0.5620438 ,  0.56934307,  0.56934307,  0.55474453,\n",
       "         0.53284672,  0.41605839,  0.49635036,  0.51824818,  0.52554745,\n",
       "         0.58394161,  0.56934307,  0.54744526,  0.54014599,  0.53284672,\n",
       "         0.54014599,  0.51824818,  0.54014599,  0.52554745,  0.51094891],\n",
       "       [ 0.54014599,  0.49635036,  0.48905109,  0.51824818,  0.49635036,\n",
       "         0.45985401,  0.49635036,  0.51094891,  0.52554745,  0.52554745,\n",
       "         0.52554745,  0.54744526,  0.54744526,  0.54744526,  0.54014599,\n",
       "         0.54014599,  0.54744526,  0.51824818,  0.51824818,  0.52554745],\n",
       "       [ 0.56934307,  0.52554745,  0.52554745,  0.52554745,  0.56934307,\n",
       "         0.57664234,  0.54014599,  0.52554745,  0.54744526,  0.55474453,\n",
       "         0.58394161,  0.59124088,  0.60583942,  0.62043796,  0.62773723,\n",
       "         0.62043796,  0.57664234,  0.59124088,  0.6350365 ,  0.62773723],\n",
       "       [ 0.54014599,  0.59854015,  0.54014599,  0.45985401,  0.46715328,\n",
       "         0.51824818,  0.54014599,  0.54014599,  0.53284672,  0.48175182,\n",
       "         0.48905109,  0.48905109,  0.54744526,  0.58394161,  0.55474453,\n",
       "         0.55474453,  0.53284672,  0.5620438 ,  0.58394161,  0.55474453]])"
      ]
     },
     "execution_count": 28,
     "metadata": {},
     "output_type": "execute_result"
    }
   ],
   "source": [
    "cross_validation"
   ]
  },
  {
   "cell_type": "code",
   "execution_count": 29,
   "metadata": {
    "collapsed": false
   },
   "outputs": [
    {
     "data": {
      "text/plain": [
       "array([ 0.56350365,  0.56642336,  0.54306569,  0.52992701,  0.52846715,\n",
       "        0.53430657,  0.50948905,  0.52992701,  0.53576642,  0.53138686,\n",
       "        0.54744526,  0.55036496,  0.56350365,  0.57080292,  0.56642336,\n",
       "        0.56350365,  0.5459854 ,  0.5459854 ,  0.55766423,  0.55474453])"
      ]
     },
     "execution_count": 29,
     "metadata": {},
     "output_type": "execute_result"
    }
   ],
   "source": [
    "mean_k"
   ]
  },
  {
   "cell_type": "code",
   "execution_count": null,
   "metadata": {
    "collapsed": true
   },
   "outputs": [],
   "source": []
  },
  {
   "cell_type": "code",
   "execution_count": null,
   "metadata": {
    "collapsed": true
   },
   "outputs": [],
   "source": []
  }
 ],
 "metadata": {
  "kernelspec": {
   "display_name": "Python 3",
   "language": "python",
   "name": "python3"
  },
  "language_info": {
   "codemirror_mode": {
    "name": "ipython",
    "version": 3
   },
   "file_extension": ".py",
   "mimetype": "text/x-python",
   "name": "python",
   "nbconvert_exporter": "python",
   "pygments_lexer": "ipython3",
   "version": "3.5.2"
  }
 },
 "nbformat": 4,
 "nbformat_minor": 2
}
